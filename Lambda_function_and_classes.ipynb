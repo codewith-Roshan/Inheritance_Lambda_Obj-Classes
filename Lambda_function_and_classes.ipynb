{
 "cells": [
  {
   "cell_type": "code",
   "execution_count": 4,
   "id": "b25abc9b",
   "metadata": {},
   "outputs": [
    {
     "name": "stdout",
     "output_type": "stream",
     "text": [
      "[34, 32, 44, 34, 20]\n"
     ]
    }
   ],
   "source": [
    "li = [89, 45, 34, 32, 45, 33,44,34,23,20]\n",
    "final_list =list(filter (lambda x: (x%2!=0),li))\n",
    "print(final_list)\n",
    "    "
   ]
  },
  {
   "cell_type": "code",
   "execution_count": null,
   "id": "7a5a97ee",
   "metadata": {},
   "outputs": [],
   "source": [
    "lambda function take function and parameter at once "
   ]
  },
  {
   "cell_type": "code",
   "execution_count": null,
   "id": "343b8bd5",
   "metadata": {},
   "outputs": [],
   "source": [
    "map function "
   ]
  },
  {
   "cell_type": "code",
   "execution_count": 5,
   "id": "30ff12dc",
   "metadata": {},
   "outputs": [
    {
     "name": "stdout",
     "output_type": "stream",
     "text": [
      "[4, 8, 10, 12, 14, 16]\n"
     ]
    }
   ],
   "source": [
    "li = [2, 4, 5, 6, 7, 8]\n",
    "final_list = list (map(lambda x:(x*2),li))\n",
    "print(final_list)"
   ]
  },
  {
   "cell_type": "code",
   "execution_count": null,
   "id": "c77ba868",
   "metadata": {},
   "outputs": [],
   "source": [
    "reduce function"
   ]
  },
  {
   "cell_type": "code",
   "execution_count": 10,
   "id": "9f30fc40",
   "metadata": {},
   "outputs": [
    {
     "name": "stdout",
     "output_type": "stream",
     "text": [
      "28\n"
     ]
    }
   ],
   "source": [
    "from functools import reduce\n",
    "sum = reduce(lambda x,y: (x+y), li)\n",
    "print(sum)"
   ]
  },
  {
   "cell_type": "code",
   "execution_count": 12,
   "id": "134012fc",
   "metadata": {},
   "outputs": [
    {
     "name": "stdout",
     "output_type": "stream",
     "text": [
      "i am making call\n",
      "i am watching vidoe\n"
     ]
    }
   ],
   "source": [
    "class Phn:\n",
    "    def make_call(self):\n",
    "        print(\"i am making call\")\n",
    "    def play_game(self):\n",
    "        print(\"i am palying game\")\n",
    "    def video(self):\n",
    "        print(\"i am watching vidoe\")\n",
    "p1 = Phn()\n",
    "p1.make_call()\n",
    "p1.video()\n"
   ]
  },
  {
   "cell_type": "code",
   "execution_count": 17,
   "id": "481c70ab",
   "metadata": {},
   "outputs": [
    {
     "data": {
      "text/plain": [
       "39999"
      ]
     },
     "execution_count": 17,
     "metadata": {},
     "output_type": "execute_result"
    }
   ],
   "source": [
    "class Phn:\n",
    "    def set_color(self, color):\n",
    "        self.color = color\n",
    "    def set_cost(self,cost):\n",
    "        self.cost = cost\n",
    "        \n",
    "    def show_color(self):\n",
    "        return self.color\n",
    "    def show_cost(self):\n",
    "        return self.cost\n",
    "    def make_call(self):\n",
    "        print(\"i am making call\")\n",
    "    def play_game(self):\n",
    "        print(\"i am palying game\")\n",
    "    def video(self):\n",
    "        print(\"i am watching vidoe\")\n",
    "p2 = Phn()\n",
    "p2.set_color(\"red\")\n",
    "p2.set_cost(39999)\n",
    "p2.show_cost()\n",
    "\n",
    "    "
   ]
  },
  {
   "cell_type": "code",
   "execution_count": 18,
   "id": "e2e29827",
   "metadata": {},
   "outputs": [
    {
     "data": {
      "text/plain": [
       "'red'"
      ]
     },
     "execution_count": 18,
     "metadata": {},
     "output_type": "execute_result"
    }
   ],
   "source": [
    "p2.show_color()\n"
   ]
  },
  {
   "cell_type": "code",
   "execution_count": null,
   "id": "7715bc94",
   "metadata": {},
   "outputs": [],
   "source": [
    "constructor is a specia type method which simplify the creating object method like previsouly \n",
    "we need to set 2 method but const set multi method at oncce"
   ]
  },
  {
   "cell_type": "code",
   "execution_count": 33,
   "id": "8168ae46",
   "metadata": {},
   "outputs": [
    {
     "name": "stdout",
     "output_type": "stream",
     "text": [
      "name of emp is ram\n",
      "age of emp is 54\n",
      "gender of emp is male\n"
     ]
    }
   ],
   "source": [
    "class Employee:\n",
    "    def __init__(self, name, age, gender):\n",
    "        self.name = name\n",
    "        self.age = age\n",
    "        self.gender = gender\n",
    "        \n",
    "    def show_employee_details(self):\n",
    "        print(\"name of emp is\", self.name)\n",
    "        print(\"age of emp is\",self.age)\n",
    "        print(\"gender of emp is\", self.gender)\n",
    "        \n",
    "e1 = Employee(\"ram\", 54, \"male\")\n",
    "e1.show_employee_details()"
   ]
  },
  {
   "cell_type": "code",
   "execution_count": 37,
   "id": "548423ab",
   "metadata": {},
   "outputs": [
    {
     "name": "stdout",
     "output_type": "stream",
     "text": [
      "i am hero\n",
      "cost is  70000\n",
      "milege is 125 cc\n",
      "best milege ever\n"
     ]
    }
   ],
   "source": [
    "# class Vehicle:\n",
    "#     def __init__(self,name, cost, milege):\n",
    "#         self.name = name\n",
    "#         self.cost = cost\n",
    "#         self.milege  = milege\n",
    "        \n",
    "#     def show_vh_details(self):\n",
    "#         print(\"i am\",self.name)\n",
    "#         print(\"cost is \",self.cost)\n",
    "#         print(\"milege is\",self.milege,\"cc\")\n",
    "\n",
    "\n",
    "# class Hero(Vehicle):\n",
    "#     def show_hero(self):\n",
    "#         print(\"best milege ever\")\n",
    "# v1 = Vehicle(\"hero\", 70000, 232)"
   ]
  },
  {
   "cell_type": "code",
   "execution_count": 2,
   "id": "194a9230",
   "metadata": {},
   "outputs": [],
   "source": [
    "class Vehicle:\n",
    "    def __init__(self,name, cost, milege):\n",
    "        self.name = name\n",
    "        self.cost = cost\n",
    "        self.milege  = milege\n",
    "        \n",
    "    def show_details(self):\n",
    "        print(\"i am\",self.name)\n",
    "        print(\"cost is \",self.cost)\n",
    "        print(\"milege is\",self.milege,\"cc\")\n",
    "\n",
    "\n",
    "class Two_tier(Vehicle):\n",
    "    def __init(self,name,cost,milege, tyres, hp):\n",
    "        super().__init__(name, cost, milege)\n",
    "        self.tyres = tyres\n",
    "        self.hp = hp\n",
    "    def show_twotd(self):\n",
    "        print(\"tyres is\", self.tyres)\n",
    "        print(\"and horse power is\", self.hp)\n",
    "        \n",
    "hero = Two_tier(\"kk\",8, 800, 234, 8)\n",
    "hero.show_details()\n",
    "            \n",
    "    "
   ]
  },
  {
   "cell_type": "code",
   "execution_count": null,
   "id": "1390cabb",
   "metadata": {},
   "outputs": [],
   "source": []
  },
  {
   "cell_type": "code",
   "execution_count": null,
   "id": "a5c45a78",
   "metadata": {},
   "outputs": [],
   "source": []
  }
 ],
 "metadata": {
  "kernelspec": {
   "display_name": "Python 3 (ipykernel)",
   "language": "python",
   "name": "python3"
  },
  "language_info": {
   "codemirror_mode": {
    "name": "ipython",
    "version": 3
   },
   "file_extension": ".py",
   "mimetype": "text/x-python",
   "name": "python",
   "nbconvert_exporter": "python",
   "pygments_lexer": "ipython3",
   "version": "3.9.13"
  }
 },
 "nbformat": 4,
 "nbformat_minor": 5
}
