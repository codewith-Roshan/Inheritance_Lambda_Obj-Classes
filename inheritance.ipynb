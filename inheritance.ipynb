{
 "cells": [
  {
   "cell_type": "code",
   "execution_count": 4,
   "id": "ed722213-05af-4d1e-88a0-48b3d225ce79",
   "metadata": {},
   "outputs": [
    {
     "name": "stdout",
     "output_type": "stream",
     "text": [
      "cost is  212\n",
      "milege is 332 cc\n"
     ]
    }
   ],
   "source": [
    "class Vehicle:\n",
    "    def __init__(self,cost, milege):\n",
    "        # self.name = name\n",
    "        self.cost = cost\n",
    "        self.milege  = milege\n",
    "        \n",
    "    def show_details(self):\n",
    "        # print(\"i am\",self.name)\n",
    "        print(\"cost is \",self.cost)\n",
    "        print(\"milege is\",self.milege,\"cc\")\n",
    "\n",
    "\n",
    "class Two_tier(Vehicle):\n",
    "    def __init(self,cost,milege, tyres, hp):\n",
    "        super().__init__(cost, milege)\n",
    "        self.tyres = tyres\n",
    "        self.hp = hp\n",
    "    def show_twotd(self):\n",
    "        print(\"tyres is\", self.tyres)\n",
    "        print(\"and horse power is\", self.hp)\n",
    "        \n",
    "hero = Two_tier(212,332)\n",
    "hero.show_details()\n",
    "            "
   ]
  },
  {
   "cell_type": "code",
   "execution_count": null,
   "id": "78f88743-c0dd-40f0-8afd-f9edb2fae2f8",
   "metadata": {},
   "outputs": [],
   "source": []
  }
 ],
 "metadata": {
  "kernelspec": {
   "display_name": "Python 3 (ipykernel)",
   "language": "python",
   "name": "python3"
  },
  "language_info": {
   "codemirror_mode": {
    "name": "ipython",
    "version": 3
   },
   "file_extension": ".py",
   "mimetype": "text/x-python",
   "name": "python",
   "nbconvert_exporter": "python",
   "pygments_lexer": "ipython3",
   "version": "3.9.13"
  }
 },
 "nbformat": 4,
 "nbformat_minor": 5
}
